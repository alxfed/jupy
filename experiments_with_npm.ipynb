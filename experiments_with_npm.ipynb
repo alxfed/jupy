{
 "cells": [
  {
   "cell_type": "code",
   "execution_count": 1,
   "metadata": {},
   "outputs": [],
   "source": [
    "var msg = 'this'"
   ]
  },
  {
   "cell_type": "code",
   "execution_count": 2,
   "metadata": {},
   "outputs": [
    {
     "data": {
      "text/plain": [
       "'this'"
      ]
     },
     "execution_count": 2,
     "metadata": {},
     "output_type": "execute_result"
    }
   ],
   "source": [
    "msg"
   ]
  },
  {
   "cell_type": "code",
   "execution_count": 3,
   "metadata": {},
   "outputs": [
    {
     "name": "stdout",
     "output_type": "stream",
     "text": [
      "this\n"
     ]
    }
   ],
   "source": [
    "console.log(msg)"
   ]
  },
  {
   "cell_type": "code",
   "execution_count": 1,
   "metadata": {},
   "outputs": [],
   "source": [
    "var request = require('request');"
   ]
  },
  {
   "cell_type": "code",
   "execution_count": null,
   "metadata": {},
   "outputs": [],
   "source": [
    "const returnedCompanies = [];\n",
    "var API_KEY = 'demo'\n",
    "const count = 5;"
   ]
  },
  {
   "cell_type": "markdown",
   "metadata": {},
   "source": [
    "The headers are set like this:"
   ]
  },
  {
   "cell_type": "code",
   "execution_count": 2,
   "metadata": {},
   "outputs": [],
   "source": [
    "var options = {\n",
    "  url: 'https://api.github.com/repos/request/request',\n",
    "  headers: {\n",
    "    'User-Agent': 'request'\n",
    "  }\n",
    "};"
   ]
  },
  {
   "cell_type": "markdown",
   "metadata": {},
   "source": [
    "from HubSpot documentation:"
   ]
  },
  {
   "cell_type": "code",
   "execution_count": null,
   "metadata": {},
   "outputs": [],
   "source": [
    "function getCompanies(offset) {\n",
    "    if (typeof offset == 'undefined') {\n",
    "        offsetParam = null;\n",
    "    } else {\n",
    "        offsetParam = `offset=${offset}`;\n",
    "    }\n",
    "    const hapikeyParam = `hapikey=${API_KEY}`\n",
    "    const paramsString = `?count=${count}&${hapikeyParam}&${offsetParam}`;\n",
    "\n",
    "    const finalUrl = `https://api.hubapi.com/companies/v2/companies/paged${paramsString}`\n",
    "    console.log(finalUrl)\n",
    "    request(finalUrl, (error, response, body) => {\n",
    "        if (error) {\n",
    "            console.log('error', error)\n",
    "            throw new Error\n",
    "        }\n",
    "        const parsedBody = JSON.parse(body)\n",
    "        parsedBody.companies.forEach(company => {\n",
    "            returnedCompanies.push(company);\n",
    "        });\n",
    "        if (parsedBody['has-more']) {\n",
    "            getCompanies(parsedBody['offset'])\n",
    "        } else {\n",
    "            //print out all companies\n",
    "            console.log(returnedCompanies)\n",
    "        }\n",
    "    })\n",
    "};\n",
    "\n",
    "getCompanies()"
   ]
  }
 ],
 "metadata": {
  "kernelspec": {
   "display_name": "Javascript (Node.js)",
   "language": "javascript",
   "name": "javascript"
  },
  "language_info": {
   "file_extension": ".js",
   "mimetype": "application/javascript",
   "name": "javascript",
   "version": "10.13.0"
  }
 },
 "nbformat": 4,
 "nbformat_minor": 4
}
