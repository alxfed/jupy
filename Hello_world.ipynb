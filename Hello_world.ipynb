{
 "cells": [
  {
   "cell_type": "code",
   "execution_count": 2,
   "metadata": {},
   "outputs": [
    {
     "data": {
      "text/plain": [
       "Server {\n",
       "  _events:\n",
       "   { request: [Function],\n",
       "     connection: [Function: connectionListener] },\n",
       "  _eventsCount: 2,\n",
       "  _maxListeners: undefined,\n",
       "  _connections: 0,\n",
       "  _handle: null,\n",
       "  _usingWorkers: false,\n",
       "  _workers: [],\n",
       "  _unref: false,\n",
       "  allowHalfOpen: true,\n",
       "  pauseOnConnect: false,\n",
       "  httpAllowHalfOpen: false,\n",
       "  timeout: 120000,\n",
       "  keepAliveTimeout: 5000,\n",
       "  _pendingResponseData: 0,\n",
       "  maxHeadersCount: null,\n",
       "  [Symbol(IncomingMessage)]:\n",
       "   { [Function: IncomingMessage]\n",
       "     super_:\n",
       "      { [Function: Readable]\n",
       "        ReadableState: [Function: ReadableState],\n",
       "        super_: [Function],\n",
       "        _fromList: [Function: fromList] } },\n",
       "  [Symbol(ServerResponse)]:\n",
       "   { [Function: ServerResponse] super_: { [Function: OutgoingMessage] super_: [Function] } },\n",
       "  [Symbol(asyncId)]: 16 }"
      ]
     },
     "execution_count": 2,
     "metadata": {},
     "output_type": "execute_result"
    },
    {
     "name": "stderr",
     "output_type": "stream",
     "text": [
      "Error: listen EADDRINUSE :::8888\n",
      "    at Server.setupListenHandle [as _listen2] (net.js:1286:14)\n",
      "    at listenInCluster (net.js:1334:12)\n",
      "    at Server.listen (net.js:1421:7)\n",
      "    at evalmachine.<anonymous>:7:4\n",
      "    at Script.runInThisContext (vm.js:96:20)\n",
      "    at Object.runInThisContext (vm.js:303:38)\n",
      "    at run ([eval]:1054:15)\n",
      "    at onRunRequest ([eval]:888:18)\n",
      "    at onMessage ([eval]:848:13)\n",
      "    at process.emit (events.js:182:13)"
     ]
    }
   ],
   "source": [
    "var http = require(\"http\");\n",
    "\n",
    "http.createServer(function(request, response) {\n",
    "    response.writeHead(200, {\"Content-Type\": \"text/plain\"});\n",
    "    response.write(\"Hello World\");\n",
    "    response.end();\n",
    "}).listen(8888);"
   ]
  },
  {
   "cell_type": "code",
   "execution_count": null,
   "metadata": {},
   "outputs": [],
   "source": []
  }
 ],
 "metadata": {
  "kernelspec": {
   "display_name": "Javascript (Node.js)",
   "language": "javascript",
   "name": "javascript"
  },
  "language_info": {
   "file_extension": ".js",
   "mimetype": "application/javascript",
   "name": "javascript",
   "version": "10.13.0"
  }
 },
 "nbformat": 4,
 "nbformat_minor": 4
}
