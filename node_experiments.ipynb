{
 "cells": [
  {
   "cell_type": "markdown",
   "metadata": {},
   "source": [
    "Node experiments"
   ]
  },
  {
   "cell_type": "code",
   "execution_count": 1,
   "metadata": {},
   "outputs": [],
   "source": [
    "// load http module\n",
    "var http = require('http');\n",
    "// create http server\n",
    "http.createServer(function (req, res) {\n",
    "    // content header\n",
    "    res.writeHead(200, {'content-type': 'text/plain'});\n",
    "    // write message and signal communication is complete\n",
    "    res.end(\"Hello, World!\\n\");\n",
    "}).listen(8124);\n",
    "console.log('Server running on 8124');"
   ]
  },
  {
   "cell_type": "markdown",
   "metadata": {},
   "source": [
    "http://localhost:8124/"
   ]
  },
  {
   "cell_type": "code",
   "execution_count": 3,
   "metadata": {},
   "outputs": [],
   "source": [
    "var fs = require('fs');"
   ]
  },
  {
   "cell_type": "code",
   "execution_count": 1,
   "metadata": {},
   "outputs": [
    {
     "name": "stdout",
     "output_type": "stream",
     "text": [
      "Server running on 8124/\n",
      "bound to port 8124\n"
     ]
    }
   ],
   "source": [
    "var http = require('http');\n",
    "var fs = require('fs');\n",
    "\n",
    "// create http server\n",
    "http.createServer(function (req, res) {\n",
    "    // open and read in helloworld.js\n",
    "    fs.readFile('helloworld.js', 'utf8', function(err, data) {\n",
    "        res.writeHead(200, {'Content-Type': 'text/plain'});\n",
    "        if (err)\n",
    "            res.write('Could not find or open file for reading\\n');\n",
    "        else\n",
    "            // if no error, write JS file to client\n",
    "            res.write(data);\n",
    "        res.end();\n",
    "    });\n",
    "}).listen(8124, function() { console.log('bound to port 8124');});\n",
    "console.log('Server running on 8124/');"
   ]
  },
  {
   "cell_type": "code",
   "execution_count": null,
   "metadata": {},
   "outputs": [],
   "source": []
  }
 ],
 "metadata": {
  "kernelspec": {
   "display_name": "Javascript (Node.js)",
   "language": "javascript",
   "name": "javascript"
  },
  "language_info": {
   "file_extension": ".js",
   "mimetype": "application/javascript",
   "name": "javascript",
   "version": "10.13.0"
  }
 },
 "nbformat": 4,
 "nbformat_minor": 4
}
